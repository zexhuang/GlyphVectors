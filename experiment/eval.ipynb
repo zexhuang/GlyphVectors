{
 "cells": [
  {
   "cell_type": "code",
   "execution_count": 1,
   "metadata": {},
   "outputs": [],
   "source": [
    "import os\n",
    "os.chdir(\"../\")\n",
    "import numpy as np"
   ]
  },
  {
   "cell_type": "markdown",
   "metadata": {},
   "source": [
    "## Data Visualisation"
   ]
  },
  {
   "cell_type": "code",
   "execution_count": 2,
   "metadata": {},
   "outputs": [],
   "source": [
    "import pandas as pd\n",
    "import matplotlib.pyplot as plt\n",
    "from IPython.display import display"
   ]
  },
  {
   "cell_type": "code",
   "execution_count": 3,
   "metadata": {},
   "outputs": [],
   "source": [
    "file_path = \"data/glyph/\"\n",
    "sans_df = np.load(file_path + 'aug_sans_serif.pkl', allow_pickle=True)\n",
    "test_sans_df = np.load(file_path + 'test_sans_serif.pkl', allow_pickle=True)\n",
    "\n",
    "serif_df = np.load(file_path + 'aug_serif.pkl', allow_pickle=True)\n",
    "test_serif_df = np.load(file_path + 'test_serif.pkl', allow_pickle=True)"
   ]
  },
  {
   "cell_type": "code",
   "execution_count": 4,
   "metadata": {},
   "outputs": [],
   "source": [
    "total_sans = pd.concat([sans_df, test_sans_df])\n",
    "total_serif = pd.concat([serif_df, test_serif_df])"
   ]
  },
  {
   "cell_type": "code",
   "execution_count": 5,
   "metadata": {},
   "outputs": [
    {
     "data": {
      "text/plain": [
       "[Text(0.5, 1.0, 'Serif')]"
      ]
     },
     "execution_count": 5,
     "metadata": {},
     "output_type": "execute_result"
    },
    {
     "data": {
      "image/png": "[encoded data removed]",
      "text/plain": [
       "<Figure size 576x576 with 2 Axes>"
      ]
     },
     "metadata": {},
     "output_type": "display_data"
    }
   ],
   "source": [
    "import seaborn as sns\n",
    "sns.set_theme(style=\"darkgrid\")\n",
    "\n",
    "fig, axs = plt.subplots(2, 1, figsize=(8, 8))\n",
    "\n",
    "total_sans = total_sans.rename(columns={'value':'Glyph class'})\n",
    "sans_plt = sns.countplot(x='Glyph class', data=total_sans, ax=axs[0])\n",
    "sans_plt.set(title='Sans Serif')\n",
    "sans_plt.set(xticklabels=[])\n",
    "sans_plt.set(xlabel=None)\n",
    "\n",
    "total_serif = total_serif.rename(columns={'value':'Glyph class'})\n",
    "serif_plt = sns.countplot(x='Glyph class', data=total_serif, ax=axs[1])\n",
    "serif_plt.set(title='Serif')"
   ]
  },
  {
   "cell_type": "code",
   "execution_count": 6,
   "metadata": {},
   "outputs": [],
   "source": [
    "import torch\n",
    "from torch.utils.data import DataLoader\n",
    "from data.transform import ToFixedTensor\n",
    "\n",
    "from utils.metric import Metrics\n",
    "from data.torch_dataset import GlyphGeom\n",
    "device = 'cuda' if torch.cuda.is_available() else 'cpu'"
   ]
  },
  {
   "cell_type": "code",
   "execution_count": 7,
   "metadata": {},
   "outputs": [],
   "source": [
    "@torch.no_grad()\n",
    "def validation(loader, model, criterion):\n",
    "    metr = Metrics(10)\n",
    "    model.eval()\n",
    "    for idx, data in enumerate(loader):\n",
    "        x = data['geom'].to(torch.device(device), dtype=torch.float)\n",
    "        y = data['value'].to(torch.device(device))\n",
    "\n",
    "        logits = model(x)\n",
    "        loss = criterion(logits, y)\n",
    "\n",
    "        metr.update_cm(logits, y)\n",
    "        metr.update_loss(loss)\n",
    "    \n",
    "    print(f\"Avg Valid Loss: {metr.avg_loss():.4f} \\n\"\n",
    "          f\"Overall Valid Acc: {metr.accuracy():.4f} \\n\"\n",
    "          f\"{'-' * 80}\") \n",
    "    return metr, metr.avg_loss()"
   ]
  },
  {
   "cell_type": "code",
   "execution_count": 8,
   "metadata": {},
   "outputs": [],
   "source": [
    "from model.net import CNN, Deepset, GCNN, SetTransformer\n",
    "\n",
    "def build_model(nn, checkpoint_name=None):\n",
    "    if nn == 'cnn':\n",
    "        model = CNN(3, 10)\n",
    "    elif nn == 'deepset':\n",
    "        model = Deepset(3, 10, 2048)\n",
    "    elif nn == 'gcnn':\n",
    "        model = GCNN(3, 10, 2048)\n",
    "    elif nn == 'transformer':\n",
    "        model = SetTransformer(3, 10, 512)\n",
    "    \n",
    "    checkpoint=torch.load('saved/'+f'{checkpoint_name}.pth')\n",
    "    model.load_state_dict(checkpoint['model_state'])\n",
    "\n",
    "    model.to(torch.device(device))\n",
    "    criterion = torch.nn.CrossEntropyLoss()\n",
    "    \n",
    "    return model, criterion"
   ]
  },
  {
   "cell_type": "markdown",
   "metadata": {},
   "source": [
    "## Glyph Geometry"
   ]
  },
  {
   "cell_type": "code",
   "execution_count": 9,
   "metadata": {},
   "outputs": [],
   "source": [
    "serif_o = test_serif_df[test_serif_df['type']=='o']\n",
    "serif_r = test_serif_df[test_serif_df['type']=='r']\n",
    "serif_s = test_serif_df[test_serif_df['type']=='s']\n",
    "serif_d = test_serif_df[test_serif_df['type']=='d']\n",
    "\n",
    "sans_o = test_sans_df[test_sans_df['type']=='o']\n",
    "sans_r = test_sans_df[test_sans_df['type']=='r']\n",
    "sans_s = test_sans_df[test_sans_df['type']=='s']\n",
    "sans_d = test_sans_df[test_sans_df['type']=='d']"
   ]
  },
  {
   "cell_type": "code",
   "execution_count": 10,
   "metadata": {},
   "outputs": [],
   "source": [
    "test_serif_o = GlyphGeom(data_dir=file_path, dataframe=serif_o, transform=ToFixedTensor(1500))\n",
    "test_serif_r = GlyphGeom(data_dir=file_path, dataframe=serif_r, transform=ToFixedTensor(1500))\n",
    "test_serif_s = GlyphGeom(data_dir=file_path, dataframe=serif_s, transform=ToFixedTensor(1500))\n",
    "test_serif_d = GlyphGeom(data_dir=file_path, dataframe=serif_d, transform=ToFixedTensor(1500))\n",
    "\n",
    "test_sans_o = GlyphGeom(data_dir=file_path, dataframe=sans_o, transform=ToFixedTensor(1500))\n",
    "test_sans_r = GlyphGeom(data_dir=file_path, dataframe=sans_r, transform=ToFixedTensor(1500))\n",
    "test_sans_s = GlyphGeom(data_dir=file_path, dataframe=sans_s, transform=ToFixedTensor(1500))\n",
    "test_sans_d = GlyphGeom(data_dir=file_path, dataframe=sans_d, transform=ToFixedTensor(1500))"
   ]
  },
  {
   "cell_type": "code",
   "execution_count": 11,
   "metadata": {},
   "outputs": [
    {
     "name": "stdout",
     "output_type": "stream",
     "text": [
      "Avg Valid Loss: 0.5721 \n",
      "Overall Valid Acc: 0.8514 \n",
      "--------------------------------------------------------------------------------\n",
      "Avg Valid Loss: 0.1580 \n",
      "Overall Valid Acc: 0.9530 \n",
      "--------------------------------------------------------------------------------\n",
      "Avg Valid Loss: 0.1434 \n",
      "Overall Valid Acc: 0.9525 \n",
      "--------------------------------------------------------------------------------\n",
      "Avg Valid Loss: 0.3336 \n",
      "Overall Valid Acc: 0.9110 \n",
      "--------------------------------------------------------------------------------\n"
     ]
    }
   ],
   "source": [
    "# Original\n",
    "test_loader = DataLoader(test_serif_o, batch_size=64, shuffle=True)\n",
    "\n",
    "# CNN\n",
    "model, criterion = build_model('cnn', 'cnn/sans_serif')\n",
    "metr_cnn_o, _ = validation(test_loader, model, criterion)\n",
    "\n",
    "# Deepset\n",
    "model, criterion = build_model('deepset', 'deepset/sans_serif')\n",
    "metr_deepset_o, _ = validation(test_loader, model, criterion)\n",
    "\n",
    "# GCNN\n",
    "model, criterion = build_model('gcnn', 'gcnn/sans_serif')\n",
    "metr_gcnn_o, _ = validation(test_loader, model, criterion)\n",
    "\n",
    "# SetTransformer\n",
    "model, criterion = build_model('transformer', 'transformer/sans_serif')\n",
    "metr_setTr_o, _ = validation(test_loader, model, criterion)"
   ]
  },
  {
   "cell_type": "code",
   "execution_count": 12,
   "metadata": {},
   "outputs": [
    {
     "name": "stdout",
     "output_type": "stream",
     "text": [
      "Avg Valid Loss: 0.8232 \n",
      "Overall Valid Acc: 0.7974 \n",
      "--------------------------------------------------------------------------------\n",
      "Avg Valid Loss: 0.3502 \n",
      "Overall Valid Acc: 0.9061 \n",
      "--------------------------------------------------------------------------------\n",
      "Avg Valid Loss: 0.2912 \n",
      "Overall Valid Acc: 0.9072 \n",
      "--------------------------------------------------------------------------------\n",
      "Avg Valid Loss: 0.7264 \n",
      "Overall Valid Acc: 0.7930 \n",
      "--------------------------------------------------------------------------------\n"
     ]
    }
   ],
   "source": [
    "# Rotation\n",
    "test_loader = DataLoader(test_serif_r, batch_size=64, shuffle=True)\n",
    "\n",
    "# CNN\n",
    "model, criterion = build_model('cnn', 'cnn/sans_serif')\n",
    "metr_cnn_r, _ = validation(test_loader, model, criterion)\n",
    "\n",
    "# Deepset\n",
    "model, criterion = build_model('deepset', 'deepset/sans_serif')\n",
    "metr_deepset_r, _ = validation(test_loader, model, criterion)\n",
    "\n",
    "# GCNN\n",
    "model, criterion = build_model('gcnn', 'gcnn/sans_serif')\n",
    "metr_gcnn_r, _ = validation(test_loader, model, criterion)\n",
    "\n",
    "# SetTransformer\n",
    "model, criterion = build_model('transformer', 'transformer/sans_serif')\n",
    "metr_setTr_r, _ = validation(test_loader, model, criterion)"
   ]
  },
  {
   "cell_type": "code",
   "execution_count": 13,
   "metadata": {},
   "outputs": [
    {
     "name": "stdout",
     "output_type": "stream",
     "text": [
      "Avg Valid Loss: 0.8282 \n",
      "Overall Valid Acc: 0.7870 \n",
      "--------------------------------------------------------------------------------\n",
      "Avg Valid Loss: 0.5224 \n",
      "Overall Valid Acc: 0.8367 \n",
      "--------------------------------------------------------------------------------\n",
      "Avg Valid Loss: 0.3088 \n",
      "Overall Valid Acc: 0.8990 \n",
      "--------------------------------------------------------------------------------\n",
      "Avg Valid Loss: 0.7984 \n",
      "Overall Valid Acc: 0.7602 \n",
      "--------------------------------------------------------------------------------\n"
     ]
    }
   ],
   "source": [
    "# Scale\n",
    "test_loader = DataLoader(test_serif_s, batch_size=64, shuffle=True)\n",
    "\n",
    "# CNN\n",
    "model, criterion = build_model('cnn', 'cnn/sans_serif')\n",
    "metr_cnn_s, _ = validation(test_loader, model, criterion)\n",
    "\n",
    "# Deepset\n",
    "model, criterion = build_model('deepset', 'deepset/sans_serif')\n",
    "metr_deepset_s, _ = validation(test_loader, model, criterion)\n",
    "\n",
    "# GCNN\n",
    "model, criterion = build_model('gcnn', 'gcnn/sans_serif')\n",
    "metr_gcnn_s, _ = validation(test_loader, model, criterion)\n",
    "\n",
    "# SetTransformer\n",
    "model, criterion = build_model('transformer', 'transformer/sans_serif')\n",
    "metr_setTr_s, _ = validation(test_loader, model, criterion)"
   ]
  },
  {
   "cell_type": "code",
   "execution_count": 14,
   "metadata": {},
   "outputs": [
    {
     "name": "stdout",
     "output_type": "stream",
     "text": [
      "Avg Valid Loss: 0.7448 \n",
      "Overall Valid Acc: 0.8105 \n",
      "--------------------------------------------------------------------------------\n",
      "Avg Valid Loss: 0.3839 \n",
      "Overall Valid Acc: 0.8777 \n",
      "--------------------------------------------------------------------------------\n",
      "Avg Valid Loss: 0.2798 \n",
      "Overall Valid Acc: 0.9137 \n",
      "--------------------------------------------------------------------------------\n",
      "Avg Valid Loss: 0.6974 \n",
      "Overall Valid Acc: 0.7946 \n",
      "--------------------------------------------------------------------------------\n"
     ]
    }
   ],
   "source": [
    "# Skew\n",
    "test_loader = DataLoader(test_serif_d, batch_size=64, shuffle=True)\n",
    "\n",
    "# CNN\n",
    "model, criterion = build_model('cnn', 'cnn/sans_serif')\n",
    "metr_cnn_d, _ = validation(test_loader, model, criterion)\n",
    "\n",
    "# Deepset\n",
    "model, criterion = build_model('deepset', 'deepset/sans_serif')\n",
    "metr_deepset_d, _ = validation(test_loader, model, criterion)\n",
    "\n",
    "# GCNN\n",
    "model, criterion = build_model('gcnn', 'gcnn/sans_serif')\n",
    "metr_gcnn_d, _ = validation(test_loader, model, criterion)\n",
    "\n",
    "# SetTransformer\n",
    "model, criterion = build_model('transformer', 'transformer/sans_serif')\n",
    "metr_setTr_d, _ = validation(test_loader, model, criterion)"
   ]
  },
  {
   "cell_type": "code",
   "execution_count": 15,
   "metadata": {},
   "outputs": [],
   "source": [
    "acc = {\n",
    "       'Original': {'CNN':metr_cnn_o.accuracy().item() * 100, \n",
    "                    'DeepSet':metr_deepset_o.accuracy().item() * 100, \n",
    "                    'GCNN':metr_gcnn_o.accuracy().item() * 100, \n",
    "                    'Set Transformer':metr_setTr_o.accuracy().item() * 100},\n",
    "       \n",
    "       'Rotation': {'CNN':metr_cnn_r.accuracy().item() * 100, \n",
    "                    'DeepSet':metr_deepset_r.accuracy().item() * 100, \n",
    "                    'GCNN':metr_gcnn_r.accuracy().item() * 100, \n",
    "                    'Set Transformer':metr_setTr_r.accuracy().item() * 100}, \n",
    "       \n",
    "       'Skew': {'CNN':metr_cnn_d.accuracy().item() * 100, \n",
    "                'DeepSet':metr_deepset_d.accuracy().item() * 100, \n",
    "                'GCNN':metr_gcnn_d.accuracy().item() * 100, \n",
    "                'Set Transformer':metr_setTr_d.accuracy().item() * 100}, \n",
    "       \n",
    "       'Scale': {'CNN':metr_cnn_s.accuracy().item() * 100, \n",
    "                 'DeepSet':metr_deepset_s.accuracy().item() * 100, \n",
    "                 'GCNN':metr_gcnn_s.accuracy().item() * 100, \n",
    "                 'Set Transformer':metr_setTr_s.accuracy().item() * 100}\n",
    "       }\n",
    "serif_acc_df = pd.DataFrame.from_dict(acc)"
   ]
  },
  {
   "cell_type": "code",
   "execution_count": 16,
   "metadata": {},
   "outputs": [
    {
     "name": "stdout",
     "output_type": "stream",
     "text": [
      "Avg Valid Loss: 0.3723 \n",
      "Overall Valid Acc: 0.8987 \n",
      "--------------------------------------------------------------------------------\n",
      "Avg Valid Loss: 0.2110 \n",
      "Overall Valid Acc: 0.9512 \n",
      "--------------------------------------------------------------------------------\n",
      "Avg Valid Loss: 0.0918 \n",
      "Overall Valid Acc: 0.9690 \n",
      "--------------------------------------------------------------------------------\n",
      "Avg Valid Loss: 0.2732 \n",
      "Overall Valid Acc: 0.9138 \n",
      "--------------------------------------------------------------------------------\n"
     ]
    }
   ],
   "source": [
    "# Original\n",
    "test_loader = DataLoader(test_sans_o, batch_size=64, shuffle=True)\n",
    "\n",
    "# CNN\n",
    "model, criterion = build_model('cnn', 'cnn/serif')\n",
    "metr_cnn_o, _ = validation(test_loader, model, criterion)\n",
    "\n",
    "# Deepset\n",
    "model, criterion = build_model('deepset', 'deepset/serif')\n",
    "metr_deepset_o, _ = validation(test_loader, model, criterion)\n",
    "\n",
    "# GCNN\n",
    "model, criterion = build_model('gcnn', 'gcnn/serif')\n",
    "metr_gcnn_o, _ = validation(test_loader, model, criterion)\n",
    "\n",
    "# SetTransformer\n",
    "model, criterion = build_model('transformer', 'transformer/serif')\n",
    "metr_setTr_o, _ = validation(test_loader, model, criterion)"
   ]
  },
  {
   "cell_type": "code",
   "execution_count": 17,
   "metadata": {},
   "outputs": [
    {
     "name": "stdout",
     "output_type": "stream",
     "text": [
      "Avg Valid Loss: 0.4975 \n",
      "Overall Valid Acc: 0.8586 \n",
      "--------------------------------------------------------------------------------\n",
      "Avg Valid Loss: 0.3555 \n",
      "Overall Valid Acc: 0.9040 \n",
      "--------------------------------------------------------------------------------\n",
      "Avg Valid Loss: 0.2027 \n",
      "Overall Valid Acc: 0.9414 \n",
      "--------------------------------------------------------------------------------\n",
      "Avg Valid Loss: 0.4441 \n",
      "Overall Valid Acc: 0.8631 \n",
      "--------------------------------------------------------------------------------\n"
     ]
    }
   ],
   "source": [
    "# Rotation\n",
    "test_loader = DataLoader(test_sans_r, batch_size=64, shuffle=True)\n",
    "\n",
    "# CNN\n",
    "model, criterion = build_model('cnn', 'cnn/serif')\n",
    "metr_cnn_r, _ = validation(test_loader, model, criterion)\n",
    "\n",
    "# Deepset\n",
    "model, criterion = build_model('deepset', 'deepset/serif')\n",
    "metr_deepset_r, _ = validation(test_loader, model, criterion)\n",
    "\n",
    "# GCNN\n",
    "model, criterion = build_model('gcnn', 'gcnn/serif')\n",
    "metr_gcnn_r, _ = validation(test_loader, model, criterion)\n",
    "\n",
    "# SetTransformer\n",
    "model, criterion = build_model('transformer', 'transformer/serif')\n",
    "metr_setTr_r, _ = validation(test_loader, model, criterion)"
   ]
  },
  {
   "cell_type": "code",
   "execution_count": 18,
   "metadata": {},
   "outputs": [
    {
     "name": "stdout",
     "output_type": "stream",
     "text": [
      "Avg Valid Loss: 0.6231 \n",
      "Overall Valid Acc: 0.8261 \n",
      "--------------------------------------------------------------------------------\n",
      "Avg Valid Loss: 0.5590 \n",
      "Overall Valid Acc: 0.8450 \n",
      "--------------------------------------------------------------------------------\n",
      "Avg Valid Loss: 0.2468 \n",
      "Overall Valid Acc: 0.9297 \n",
      "--------------------------------------------------------------------------------\n",
      "Avg Valid Loss: 0.6264 \n",
      "Overall Valid Acc: 0.8015 \n",
      "--------------------------------------------------------------------------------\n"
     ]
    }
   ],
   "source": [
    "# Scale\n",
    "test_loader = DataLoader(test_sans_s, batch_size=64, shuffle=True)\n",
    "\n",
    "# CNN\n",
    "model, criterion = build_model('cnn', 'cnn/serif')\n",
    "metr_cnn_s, _ = validation(test_loader, model, criterion)\n",
    "\n",
    "# Deepset\n",
    "model, criterion = build_model('deepset', 'deepset/serif')\n",
    "metr_deepset_s, _ = validation(test_loader, model, criterion)\n",
    "\n",
    "# GCNN\n",
    "model, criterion = build_model('gcnn', 'gcnn/serif')\n",
    "metr_gcnn_s, _ = validation(test_loader, model, criterion)\n",
    "\n",
    "# SetTransformer\n",
    "model, criterion = build_model('transformer', 'transformer/serif')\n",
    "metr_setTr_s, _ = validation(test_loader, model, criterion)"
   ]
  },
  {
   "cell_type": "code",
   "execution_count": 19,
   "metadata": {},
   "outputs": [
    {
     "name": "stdout",
     "output_type": "stream",
     "text": [
      "Avg Valid Loss: 0.5036 \n",
      "Overall Valid Acc: 0.8544 \n",
      "--------------------------------------------------------------------------------\n",
      "Avg Valid Loss: 0.4701 \n",
      "Overall Valid Acc: 0.8609 \n",
      "--------------------------------------------------------------------------------\n",
      "Avg Valid Loss: 0.2411 \n",
      "Overall Valid Acc: 0.9285 \n",
      "--------------------------------------------------------------------------------\n",
      "Avg Valid Loss: 0.5095 \n",
      "Overall Valid Acc: 0.8476 \n",
      "--------------------------------------------------------------------------------\n"
     ]
    }
   ],
   "source": [
    "# Skew\n",
    "test_loader = DataLoader(test_sans_d, batch_size=64, shuffle=True)\n",
    "\n",
    "# CNN\n",
    "model, criterion = build_model('cnn', 'cnn/serif')\n",
    "metr_cnn_d, _ = validation(test_loader, model, criterion)\n",
    "\n",
    "# Deepset\n",
    "model, criterion = build_model('deepset', 'deepset/serif')\n",
    "metr_deepset_d, _ = validation(test_loader, model, criterion)\n",
    "\n",
    "# GCNN\n",
    "model, criterion = build_model('gcnn', 'gcnn/serif')\n",
    "metr_gcnn_d, _ = validation(test_loader, model, criterion)\n",
    "\n",
    "# SetTransformer\n",
    "model, criterion = build_model('transformer', 'transformer/serif')\n",
    "metr_setTr_d, _ = validation(test_loader, model, criterion)"
   ]
  },
  {
   "cell_type": "code",
   "execution_count": 20,
   "metadata": {},
   "outputs": [],
   "source": [
    "acc = {\n",
    "       'Original': {'CNN':metr_cnn_o.accuracy().item() * 100, \n",
    "                    'DeepSet':metr_deepset_o.accuracy().item() * 100, \n",
    "                    'GCNN':metr_gcnn_o.accuracy().item() * 100, \n",
    "                    'Set Transformer':metr_setTr_o.accuracy().item() * 100},\n",
    "       \n",
    "       'Rotation': {'CNN':metr_cnn_r.accuracy().item() * 100, \n",
    "                    'DeepSet':metr_deepset_r.accuracy().item() * 100, \n",
    "                    'GCNN':metr_gcnn_r.accuracy().item() * 100, \n",
    "                    'Set Transformer':metr_setTr_r.accuracy().item() * 100}, \n",
    "       \n",
    "       'Skew': {'CNN':metr_cnn_d.accuracy().item() * 100, \n",
    "                'DeepSet':metr_deepset_d.accuracy().item() * 100, \n",
    "                'GCNN':metr_gcnn_d.accuracy().item() * 100, \n",
    "                'Set Transformer':metr_setTr_d.accuracy().item() * 100}, \n",
    "       \n",
    "       'Scale': {'CNN':metr_cnn_s.accuracy().item() * 100, \n",
    "                 'DeepSet':metr_deepset_s.accuracy().item() * 100, \n",
    "                 'GCNN':metr_gcnn_s.accuracy().item() * 100, \n",
    "                 'Set Transformer':metr_setTr_s.accuracy().item() * 100}\n",
    "       }\n",
    "sans_acc_df = pd.DataFrame.from_dict(acc)"
   ]
  },
  {
   "cell_type": "code",
   "execution_count": 21,
   "metadata": {},
   "outputs": [
    {
     "data": {
      "text/plain": [
       "[Text(0, 0.5, 'Accuracy(%)')]"
      ]
     },
     "execution_count": 21,
     "metadata": {},
     "output_type": "execute_result"
    },
    {
     "data": {
      "image/png": "[encoded data removed]",
      "text/plain": [
       "<Figure size 720x720 with 2 Axes>"
      ]
     },
     "metadata": {},
     "output_type": "display_data"
    }
   ],
   "source": [
    "fig, axs = plt.subplots(2, 1, figsize=(10, 10))\n",
    "\n",
    "serif_acc_plt = sns.scatterplot(data=serif_acc_df.T, s=100, ax=axs[0])\n",
    "serif_acc_plt.set(title='Serif')\n",
    "serif_acc_plt.set(xlabel=None)\n",
    "serif_acc_plt.set(ylabel='Accuracy(%)')\n",
    "\n",
    "sans_acc_plt = sns.scatterplot(data=sans_acc_df.T, s=100, ax=axs[1])\n",
    "sans_acc_plt.set(title='Sans Serif')\n",
    "sans_acc_plt.set(xlabel='Affine Transformation')\n",
    "sans_acc_plt.set(ylabel='Accuracy(%)')"
   ]
  },
  {
   "cell_type": "markdown",
   "metadata": {},
   "source": []
  }
 ],
 "metadata": {
  "interpreter": {
   "hash": "231114be5c8ce4fca5b78cd18c0b00ec296b97d066e78dba2c2776ac8b8582a3"
  },
  "kernelspec": {
   "display_name": "Python 3.8.13 ('torch_graph')",
   "language": "python",
   "name": "python3"
  },
  "language_info": {
   "codemirror_mode": {
    "name": "ipython",
    "version": 3
   },
   "file_extension": ".py",
   "mimetype": "text/x-python",
   "name": "python",
   "nbconvert_exporter": "python",
   "pygments_lexer": "ipython3",
   "version": "3.8.13"
  },
  "orig_nbformat": 4
 },
 "nbformat": 4,
 "nbformat_minor": 2
}
