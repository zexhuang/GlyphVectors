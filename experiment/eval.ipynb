{
 "cells": [
  {
   "cell_type": "code",
   "execution_count": 1,
   "metadata": {},
   "outputs": [],
   "source": [
    "import numpy as np\n",
    "import torch\n",
    "import os\n",
    "os.chdir(\"../\")\n",
    "\n",
    "from torch.utils.data import DataLoader\n",
    "from data.torch_dataset import LetterVectors\n",
    "from data.transform import ToFixedTensor\n",
    "from config.config_loader import load_config\n",
    "from model.net import CNN\n",
    "from utils.metric import Metrics\n",
    "from shapely.geometry import LineString"
   ]
  },
  {
   "cell_type": "code",
   "execution_count": 2,
   "metadata": {},
   "outputs": [],
   "source": [
    "config = load_config()\n",
    "device = 'cuda' if torch.cuda.is_available() else 'cpu'"
   ]
  }
 ],
 "metadata": {
  "interpreter": {
   "hash": "231114be5c8ce4fca5b78cd18c0b00ec296b97d066e78dba2c2776ac8b8582a3"
  },
  "kernelspec": {
   "display_name": "Python 3.8.13 ('torch_graph')",
   "language": "python",
   "name": "python3"
  },
  "language_info": {
   "codemirror_mode": {
    "name": "ipython",
    "version": 3
   },
   "file_extension": ".py",
   "mimetype": "text/x-python",
   "name": "python",
   "nbconvert_exporter": "python",
   "pygments_lexer": "ipython3",
   "version": "3.8.13"
  },
  "orig_nbformat": 4
 },
 "nbformat": 4,
 "nbformat_minor": 2
}
